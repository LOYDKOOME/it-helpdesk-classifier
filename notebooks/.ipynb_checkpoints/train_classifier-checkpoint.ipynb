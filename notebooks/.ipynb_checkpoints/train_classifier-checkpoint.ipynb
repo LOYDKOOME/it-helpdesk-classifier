{
 "cells": [
  {
   "cell_type": "code",
   "execution_count": null,
   "id": "c03a66bf",
   "metadata": {},
   "outputs": [],
   "source": [
    "# 📘 Train IT Helpdesk Ticket Classifier\n",
    "\n",
    "import pandas as pd\n",
    "import random\n",
    "from sklearn.model_selection import train_test_split\n",
    "from sklearn.feature_extraction.text import TfidfVectorizer\n",
    "from sklearn.naive_bayes import MultinomialNB\n",
    "from sklearn.pipeline import Pipeline\n",
    "from sklearn.metrics import classification_report\n",
    "import joblib\n",
    "import os"
   ]
  },
  {
   "cell_type": "code",
   "execution_count": null,
   "id": "9feb27af",
   "metadata": {},
   "outputs": [],
   "source": [
    "\n",
    "# Define ticket categories and sample phrases\n",
    "categories = ['Network Issue', 'Software Bug', 'Access Request', 'Hardware Failure', 'General Inquiry']\n",
    "\n",
    "examples = {\n",
    "    'Network Issue': [\n",
    "        'Cannot connect to WiFi', 'Internet is down in my office',\n",
    "        'VPN keeps disconnecting', 'Slow network speed'\n",
    "    ],\n",
    "    'Software Bug': [\n",
    "        'Application crashes on login', 'Error 500 when submitting form',\n",
    "        'Software freezes randomly', 'Bug in the reporting module'\n",
    "    ],\n",
    "    'Access Request': [\n",
    "        'Need access to shared drive', 'Requesting access to email group',\n",
    "        'Grant access to Jira project', 'Need database read permissions'\n",
    "    ],\n",
    "    'Hardware Failure': [\n",
    "        'Laptop not turning on', 'Monitor flickering', 'Mouse not detected',\n",
    "        'Hard disk failure warning'\n",
    "    ],\n",
    "    'General Inquiry': [\n",
    "        'What’s the IT policy on USBs?', 'How to reset my password?',\n",
    "        'Where can I report phishing emails?', 'How do I order new equipment?'\n",
    "    ]\n",
    "}\n",
    "\n",
    "# Simulate a larger dataset (e.g., 300 samples)\n",
    "data = {'description': [], 'category': []}\n",
    "for _ in range(300):\n",
    "    cat = random.choice(categories)\n",
    "    data['description'].append(random.choice(examples[cat]))\n",
    "    data['category'].append(cat)\n",
    "\n",
    "# Convert to DataFrame\n",
    "df = pd.DataFrame(data)\n",
    "df.head()\n"
   ]
  },
  {
   "cell_type": "code",
   "execution_count": null,
   "id": "c604364b",
   "metadata": {},
   "outputs": [],
   "source": [
    "\n",
    "\n",
    "# Save to CSV\n",
    "os.makedirs(\"../data\", exist_ok=True)\n",
    "df.to_csv(\"../data/tickets.csv\", index=False)\n"
   ]
  },
  {
   "cell_type": "code",
   "execution_count": null,
   "id": "3ad041ee",
   "metadata": {},
   "outputs": [],
   "source": [
    "# 2. Train/Test Split\n",
    "X_train, X_test, y_train, y_test = train_test_split(df['description'], df['category'], test_size=0.2, random_state=42)"
   ]
  },
  {
   "cell_type": "code",
   "execution_count": null,
   "id": "78ad94fd",
   "metadata": {},
   "outputs": [],
   "source": [
    "# 3. Create Pipeline\n",
    "model = Pipeline([\n",
    "    ('tfidf', TfidfVectorizer(stop_words='english')),\n",
    "    ('nb', MultinomialNB())\n",
    "])"
   ]
  },
  {
   "cell_type": "code",
   "execution_count": null,
   "id": "9c2d8761",
   "metadata": {},
   "outputs": [],
   "source": [
    "# 4. Train\n",
    "model.fit(X_train, y_train)"
   ]
  },
  {
   "cell_type": "code",
   "execution_count": null,
   "id": "7a788783",
   "metadata": {},
   "outputs": [],
   "source": [
    "# 5. Evaluate\n",
    "y_pred = model.predict(X_test)\n",
    "print(classification_report(y_test, y_pred))"
   ]
  },
  {
   "cell_type": "code",
   "execution_count": null,
   "id": "fab03288",
   "metadata": {},
   "outputs": [],
   "source": [
    "# 6. Save Model\n",
    "os.makedirs(\"../models\", exist_ok=True)\n",
    "joblib.dump(model, \"../models/ticket_classifier.pkl\")"
   ]
  },
  {
   "cell_type": "code",
   "execution_count": null,
   "id": "0cc50c02",
   "metadata": {},
   "outputs": [],
   "source": [
    "# 7. Predict Example\n",
    "sample = [\"Wi-Fi keeps disconnecting when I use Zoom\"]\n",
    "predicted = model.predict(sample)\n",
    "print(f\"\\n🧠 Prediction for '{sample[0]}': {predicted[0]}\")"
   ]
  }
 ],
 "metadata": {
  "kernelspec": {
   "display_name": "base",
   "language": "python",
   "name": "python3"
  },
  "language_info": {
   "codemirror_mode": {
    "name": "ipython",
    "version": 3
   },
   "file_extension": ".py",
   "mimetype": "text/x-python",
   "name": "python",
   "nbconvert_exporter": "python",
   "pygments_lexer": "ipython3",
   "version": "3.12.7"
  }
 },
 "nbformat": 4,
 "nbformat_minor": 5
}
